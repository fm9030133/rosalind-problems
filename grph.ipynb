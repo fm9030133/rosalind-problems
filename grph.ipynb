{
 "cells": [
  {
   "attachments": {},
   "cell_type": "markdown",
   "metadata": {},
   "source": [
    "https://rosalind.info/problems/grph/\n",
    "\n",
    "Given: A collection of DNA strings in FASTA format having total length at most 10 kbp.\n",
    "\n",
    "Return: The adjacency list corresponding to O3. You may return edges in any order.\n",
    "\n",
    "Sample Dataset\n",
    "\n",
    ">Rosalind_0498\n",
    "AAATAAA\n",
    ">Rosalind_2391\n",
    "AAATTTT\n",
    ">Rosalind_2323\n",
    "TTTTCCC\n",
    ">Rosalind_0442\n",
    "AAATCCC\n",
    ">Rosalind_5013\n",
    "GGGTGGG\n",
    "\n",
    "Sample Output\n",
    "\n",
    "Rosalind_0498 Rosalind_2391\n",
    "Rosalind_0498 Rosalind_0442\n",
    "Rosalind_2391 Rosalind_2323\n"
   ]
  },
  {
   "cell_type": "code",
   "execution_count": null,
   "metadata": {},
   "outputs": [],
   "source": []
  }
 ],
 "metadata": {
  "language_info": {
   "name": "python"
  },
  "orig_nbformat": 4
 },
 "nbformat": 4,
 "nbformat_minor": 2
}
