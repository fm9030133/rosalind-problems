{
 "cells": [
  {
   "attachments": {},
   "cell_type": "markdown",
   "metadata": {},
   "source": [
    "https://rosalind.info/problems/subs/\n",
    "\n",
    "Given: Two DNA strings s and t (each of length at most 1 kbp).\n",
    "\n",
    "Return: All locations of t as a substring of s.\n",
    "\n",
    "Sample dataset:\n",
    "GATATATGCATATACTT\n",
    "ATAT"
   ]
  },
  {
   "cell_type": "code",
   "execution_count": 8,
   "metadata": {},
   "outputs": [
    {
     "name": "stdout",
     "output_type": "stream",
     "text": [
      "11765132140147166219230276294323340355368421471479508593608635642659666674702718765804812819\n"
     ]
    }
   ],
   "source": [
    "s = 'GGAGGCTGGAGGCTCCGGAGGCTGGGAGGCTCGGAGGCTTTTGTGGAGGCTGAGTGGAGGCTACGGAGGCTGGGAGGCTTCCGGAGGCTAGGAGGCTGTTCGCCCTACCGAACGGGCGTGGAGGCTATCTTGGAGGCTGGGAGGCTGGAGGCTGGAGGCTGTTAAGGAGGCTGGAGGCTCGGGAGGCTTAGGTTGAGCCTGTGGAGGCTAGGAGGCTTGGAGGCTGGAAGGAGGCTGGGAGGCTGTGTTACTTCGGGAGGCTCCGGGGAGGCTGTGGAGGCTGGGAGGCTTCCGGAGGCTGGAGGCTAACCGGAGGCTCGCAGGAGGCTGGGAGGCTGAGGAGGCTGGAGGCTCGGAGGCTGGACTTGGAGGCTGGAGGCTACGGTACTCAGGAGGCTCTCCGGAGGCTGTGGAGGCTCAGGAGGCTGGAGGCTATCGGAGGCTGTGAGGAGGCTTACTCCGGAGGCTTTGGAGGCTGGGAGGCTGGAGGCTCGGGAGGCTAAACACGGAGGCTGGAGGCTCGTTACGGAGGCTCGGAGGCTTGAGGAGGCTATTCGGAGGCTGCGGAGGCTTTTCCAGCGCGGAGGCTATCGGAGGCTGGAGGCTTGGAGGCTGGAGGCTAACGGGAGGCTTCGGAGGCTGGAGGCTGGAGGCTGAAGGAGGCTGGAGGCTGGGAGGCTGGAGGCTCAAGGAGGCTCGCTGGAGGCTGGAGGCTCTGGAGGCTGGGAGGCTATAAGGAGGCTGCACTGGAGGCTTTTTCATGGGGAGGCTGGAGGCTTTCCTCCGGAGGCTCTCCAACCGGAGGAGGCTGGGAGGCTGGAGGCTGGAGGCTACTGGAGGCTATTACAGGAACTGGAGGCTGCTCTCGGAGGCTTGGGGAGGCTTTGGAGGCT'\n",
    "t = 'GGAGGCTGG'\n",
    "inds = [i + 1 for i in range(len(s)) if s.startswith(t, i)]\n",
    "print(' '.join(str(i) for i in inds))\n"
   ]
  },
  {
   "cell_type": "code",
   "execution_count": null,
   "metadata": {},
   "outputs": [],
   "source": []
  }
 ],
 "metadata": {
  "kernelspec": {
   "display_name": "Python 3",
   "language": "python",
   "name": "python3"
  },
  "language_info": {
   "codemirror_mode": {
    "name": "ipython",
    "version": 3
   },
   "file_extension": ".py",
   "mimetype": "text/x-python",
   "name": "python",
   "nbconvert_exporter": "python",
   "pygments_lexer": "ipython3",
   "version": "3.10.6"
  },
  "orig_nbformat": 4
 },
 "nbformat": 4,
 "nbformat_minor": 2
}
